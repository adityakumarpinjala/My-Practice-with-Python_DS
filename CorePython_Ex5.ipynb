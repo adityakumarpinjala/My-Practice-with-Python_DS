{
 "cells": [
  {
   "cell_type": "markdown",
   "metadata": {},
   "source": [
    "#### DataHiding or PrivateVariable"
   ]
  },
  {
   "cell_type": "code",
   "execution_count": 1,
   "metadata": {},
   "outputs": [],
   "source": [
    "import pandas as pd"
   ]
  },
  {
   "cell_type": "code",
   "execution_count": 2,
   "metadata": {},
   "outputs": [],
   "source": [
    "class Myown_class:\n",
    "    __hiddenVariable=0\n",
    "    def add(self,increment_value):\n",
    "        self.__hiddenVariable+=increment_value\n",
    "        print(self.__hiddenVariable)"
   ]
  },
  {
   "cell_type": "code",
   "execution_count": 3,
   "metadata": {},
   "outputs": [],
   "source": [
    "myObject=Myown_class()"
   ]
  },
  {
   "cell_type": "code",
   "execution_count": 4,
   "metadata": {},
   "outputs": [
    {
     "name": "stdout",
     "output_type": "stream",
     "text": [
      "2\n"
     ]
    }
   ],
   "source": [
    "myObject.add(2)"
   ]
  },
  {
   "cell_type": "code",
   "execution_count": 5,
   "metadata": {},
   "outputs": [
    {
     "name": "stdout",
     "output_type": "stream",
     "text": [
      "7\n"
     ]
    }
   ],
   "source": [
    "myObject.add(5)"
   ]
  },
  {
   "cell_type": "code",
   "execution_count": 6,
   "metadata": {},
   "outputs": [
    {
     "ename": "AttributeError",
     "evalue": "'Myown_class' object has no attribute '__hiddenVariable'",
     "output_type": "error",
     "traceback": [
      "\u001b[1;31m---------------------------------------------------------------------------\u001b[0m",
      "\u001b[1;31mAttributeError\u001b[0m                            Traceback (most recent call last)",
      "\u001b[1;32m<ipython-input-6-204826e4facd>\u001b[0m in \u001b[0;36m<module>\u001b[1;34m\u001b[0m\n\u001b[1;32m----> 1\u001b[1;33m \u001b[0mprint\u001b[0m\u001b[1;33m(\u001b[0m\u001b[0mmyObject\u001b[0m\u001b[1;33m.\u001b[0m\u001b[0m__hiddenVariable\u001b[0m\u001b[1;33m)\u001b[0m\u001b[1;33m\u001b[0m\u001b[1;33m\u001b[0m\u001b[0m\n\u001b[0m",
      "\u001b[1;31mAttributeError\u001b[0m: 'Myown_class' object has no attribute '__hiddenVariable'"
     ]
    }
   ],
   "source": [
    "print(myObject.__hiddenVariable)"
   ]
  },
  {
   "cell_type": "markdown",
   "metadata": {},
   "source": [
    "#### We cannot access the private members directly using the object instance."
   ]
  },
  {
   "cell_type": "code",
   "execution_count": 7,
   "metadata": {},
   "outputs": [],
   "source": [
    "class My_Class1:\n",
    "    __hidden_variable=20"
   ]
  },
  {
   "cell_type": "code",
   "execution_count": 8,
   "metadata": {},
   "outputs": [],
   "source": [
    "myobj=My_Class1()"
   ]
  },
  {
   "cell_type": "code",
   "execution_count": 9,
   "metadata": {},
   "outputs": [
    {
     "data": {
      "text/plain": [
       "20"
      ]
     },
     "execution_count": 9,
     "metadata": {},
     "output_type": "execute_result"
    }
   ],
   "source": [
    "myobj._My_Class1__hidden_variable"
   ]
  },
  {
   "cell_type": "markdown",
   "metadata": {},
   "source": [
    "#### str() vs repr()  --dunder functions"
   ]
  },
  {
   "cell_type": "code",
   "execution_count": 10,
   "metadata": {},
   "outputs": [],
   "source": [
    "class Test:\n",
    "    def __init__(self,a,b):\n",
    "        self.a=a\n",
    "        self.b=b\n",
    "    def __repr__(self):\n",
    "        return \"Test a:%s b:%s \" % (self.a,self.b)\n",
    "    def __str__(self):\n",
    "        return \"From str method of Test: a is %s, b is %s \" %(self.a,self.b)"
   ]
  },
  {
   "cell_type": "code",
   "execution_count": 11,
   "metadata": {},
   "outputs": [],
   "source": [
    "t=Test(10,20)"
   ]
  },
  {
   "cell_type": "code",
   "execution_count": 12,
   "metadata": {},
   "outputs": [
    {
     "name": "stdout",
     "output_type": "stream",
     "text": [
      "From str method of Test: a is 10, b is 20 \n"
     ]
    }
   ],
   "source": [
    "print(t)"
   ]
  },
  {
   "cell_type": "code",
   "execution_count": 13,
   "metadata": {},
   "outputs": [
    {
     "name": "stdout",
     "output_type": "stream",
     "text": [
      "[Test a:10 b:20 ]\n"
     ]
    }
   ],
   "source": [
    "print([t])"
   ]
  },
  {
   "cell_type": "code",
   "execution_count": 14,
   "metadata": {},
   "outputs": [
    {
     "name": "stdout",
     "output_type": "stream",
     "text": [
      "10 + i20\n",
      "[Rational(10, 20)]\n"
     ]
    }
   ],
   "source": [
    "class Complex: \n",
    "  \n",
    "    # Constructor \n",
    "    def __init__(self, real, imag): \n",
    "       self.real = real \n",
    "       self.imag = imag \n",
    "  \n",
    "    # For call to repr(). Prints object's information \n",
    "    def __repr__(self): \n",
    "        return 'Rational(%s, %s)' % (self.real, self.imag)     \n",
    "  \n",
    "    # For call to str(). Prints readable form \n",
    "    def __str__(self): \n",
    "        return '%s + i%s' % (self.real, self.imag)     \n",
    "  \n",
    "  \n",
    "# Driver program to test above \n",
    "t = Complex(10, 20) \n",
    "  \n",
    "print(t)  # Same as \"print t\" \n",
    "print([t])"
   ]
  },
  {
   "cell_type": "code",
   "execution_count": 15,
   "metadata": {},
   "outputs": [
    {
     "name": "stdout",
     "output_type": "stream",
     "text": [
      "Hello, Geeks.\n",
      "0.18181818181818182\n"
     ]
    }
   ],
   "source": [
    "s = 'Hello, Geeks.' \n",
    "print(str(s)) \n",
    "print(str(2.0/11.0))"
   ]
  },
  {
   "cell_type": "code",
   "execution_count": 16,
   "metadata": {},
   "outputs": [
    {
     "name": "stdout",
     "output_type": "stream",
     "text": [
      "'Hello, Geeks.'\n",
      "0.18181818181818182\n"
     ]
    }
   ],
   "source": [
    "s = 'Hello, Geeks.'\n",
    "print(repr(s)) \n",
    "print(repr(2.0/11.0))"
   ]
  },
  {
   "cell_type": "code",
   "execution_count": 17,
   "metadata": {},
   "outputs": [
    {
     "name": "stdout",
     "output_type": "stream",
     "text": [
      "2020-07-01 20:39:17.800058\n",
      "datetime.datetime(2020, 7, 1, 20, 39, 17, 800058)\n"
     ]
    }
   ],
   "source": [
    "#str() is used for creating output for end user while repr() is mainly used for debugging and development.\n",
    "#repr’s goal is to be unambiguous and str’s is to be readable.\n",
    "import datetime \n",
    "today = datetime.datetime.now() \n",
    "  \n",
    "# Prints readable format for date-time object \n",
    "print(str(today))\n",
    "  \n",
    "# prints the official format of date-time object \n",
    "print(repr(today))"
   ]
  },
  {
   "cell_type": "code",
   "execution_count": 18,
   "metadata": {},
   "outputs": [],
   "source": [
    "class Test:\n",
    "    def __init__(self,a,b):\n",
    "        self.a=a\n",
    "        self.b=b\n",
    "    def __repr__(self):\n",
    "        return \"Test a:%s b:%s\" % (self.a,self.b)"
   ]
  },
  {
   "cell_type": "code",
   "execution_count": 19,
   "metadata": {},
   "outputs": [],
   "source": [
    "t1=Test(10,30)"
   ]
  },
  {
   "cell_type": "code",
   "execution_count": 20,
   "metadata": {},
   "outputs": [
    {
     "name": "stdout",
     "output_type": "stream",
     "text": [
      "Test a:10 b:30\n"
     ]
    }
   ],
   "source": [
    "#t1(10,20)\n",
    "print(t1)"
   ]
  },
  {
   "cell_type": "code",
   "execution_count": 21,
   "metadata": {},
   "outputs": [
    {
     "name": "stdout",
     "output_type": "stream",
     "text": [
      "10\n"
     ]
    }
   ],
   "source": [
    "# object Class example:\n",
    "class Test:\n",
    "    def __init__(self,a,b):\n",
    "        self.a=a\n",
    "        self.b=b\n",
    "        \n",
    "t2=Test(10,20)\n",
    "print(t2.a)"
   ]
  },
  {
   "cell_type": "markdown",
   "metadata": {},
   "source": [
    "####  Inheritance "
   ]
  },
  {
   "cell_type": "code",
   "execution_count": 6,
   "metadata": {},
   "outputs": [
    {
     "name": "stdout",
     "output_type": "stream",
     "text": [
      "sony False\n",
      "Adi True\n"
     ]
    }
   ],
   "source": [
    "class Parent():\n",
    "    def __init__(self,name):\n",
    "        self.name1=name\n",
    "        \n",
    "    def getName(self):\n",
    "        return self.name1\n",
    "    \n",
    "    def isEmployee(self):\n",
    "        return False\n",
    "      \n",
    "class Employee(Parent):\n",
    "    def __init__(self,name):\n",
    "        super().__init__(name)\n",
    "    #def __init__(self,name):\n",
    "        #self.name=name\n",
    "    def isEmployee(self):\n",
    "        return True\n",
    "    \n",
    "obj=Parent(\"sony\")\n",
    "print(obj.getName(),obj.isEmployee())\n",
    "obj1=Employee(\"Adi\")\n",
    "print(obj1.getName(),obj1.isEmployee())"
   ]
  },
  {
   "cell_type": "code",
   "execution_count": 23,
   "metadata": {},
   "outputs": [
    {
     "name": "stdout",
     "output_type": "stream",
     "text": [
      "True\n",
      "False\n",
      "True\n",
      "False\n"
     ]
    }
   ],
   "source": [
    "class Base():\n",
    "    pass\n",
    "\n",
    "class derived(Base):\n",
    "    pass\n",
    "\n",
    "\n",
    "d=derived()\n",
    "b=Base()\n",
    "\n",
    "print(issubclass(derived,Base))\n",
    "print(issubclass(Base,derived))\n",
    "print(isinstance(d,Base))\n",
    "print(isinstance(b,derived))"
   ]
  },
  {
   "cell_type": "markdown",
   "metadata": {},
   "source": [
    "#### Multiple Inheritance"
   ]
  },
  {
   "cell_type": "code",
   "execution_count": 24,
   "metadata": {},
   "outputs": [
    {
     "name": "stdout",
     "output_type": "stream",
     "text": [
      "Derived\n",
      "geek1 geek2 Asritha\n"
     ]
    }
   ],
   "source": [
    "class Base1:\n",
    "    def __init__(self):\n",
    "        self.str1=\"geek1\"\n",
    "class Base2:\n",
    "    def __init__(self):\n",
    "        self.str2=\"geek2\"\n",
    "    def aditya(self):\n",
    "        self.str3=\"Asritha\"\n",
    "\n",
    "class derived(Base1,Base2):\n",
    "    def __init__(self):\n",
    "        #calling constructors of Base1 and Base2\n",
    "        Base1.__init__(self)\n",
    "        Base2.__init__(self)\n",
    "        Base2.aditya(self)\n",
    "        print(\"Derived\")\n",
    "    \n",
    "    def printstr(self):\n",
    "        print(self.str1,self.str2,self.str3)\n",
    "\n",
    "obj=derived()\n",
    "obj.printstr()"
   ]
  },
  {
   "cell_type": "markdown",
   "metadata": {},
   "source": [
    "#### How to access parent members in a sub class"
   ]
  },
  {
   "cell_type": "code",
   "execution_count": 18,
   "metadata": {},
   "outputs": [
    {
     "name": "stdout",
     "output_type": "stream",
     "text": [
      "Asritha\n",
      "10 10 20\n"
     ]
    }
   ],
   "source": [
    "class Base:\n",
    "    def __init__(self,x):\n",
    "        self.x1=x\n",
    "        print(\"Asritha\")\n",
    "class Derived(Base):\n",
    "    def __init__(self,x,y):\n",
    "        Base.x12=x\n",
    "        self.x12=x\n",
    "        self.y1=y\n",
    "        Base.__init__(self,x)\n",
    "        \n",
    "    def printXY(self):\n",
    "        print(self.x12,Base.x12,self.y1)\n",
    "              \n",
    "d=Derived(10,20)\n",
    "d.printXY()"
   ]
  },
  {
   "cell_type": "markdown",
   "metadata": {},
   "source": [
    "#### Super() we can access the members of a base class from a derived class"
   ]
  },
  {
   "cell_type": "code",
   "execution_count": 11,
   "metadata": {},
   "outputs": [
    {
     "name": "stdout",
     "output_type": "stream",
     "text": [
      "50\n",
      "30\n",
      "Asritha\n",
      "10\n",
      "10\n",
      "30\n",
      "Asritha\n",
      "30 20\n"
     ]
    }
   ],
   "source": [
    "class Mybaseclass:\n",
    "    def __init__(self,x):\n",
    "        self.x=30\n",
    "        print(x)\n",
    "        print(self.x)\n",
    "        print(\"Asritha\")\n",
    "class Myderivedclass(Mybaseclass):\n",
    "    def __init__(self,x,y):\n",
    "        self.x=x\n",
    "        print(self.x)\n",
    "        super().__init__(x)\n",
    "        #Mybaseclass.__init__(self,x)\n",
    "        self.y=y\n",
    "        \n",
    "    def printxy(self):\n",
    "        print(self.x,self.y)\n",
    "        \n",
    "f=Mybaseclass(50)      \n",
    "f1=Myderivedclass(10,20)\n",
    "f1.printxy()"
   ]
  },
  {
   "cell_type": "markdown",
   "metadata": {},
   "source": [
    "#### polymorphism"
   ]
  },
  {
   "cell_type": "code",
   "execution_count": 27,
   "metadata": {
    "scrolled": true
   },
   "outputs": [
    {
     "name": "stdout",
     "output_type": "stream",
     "text": [
      "5\n",
      "9\n"
     ]
    }
   ],
   "source": [
    "def add(x,y,z=0):\n",
    "    return x+y+z\n",
    "\n",
    "print(add(2,3))\n",
    "print(add(2,3,4))"
   ]
  },
  {
   "cell_type": "markdown",
   "metadata": {},
   "source": [
    "##### Printing lines without new line"
   ]
  },
  {
   "cell_type": "code",
   "execution_count": 28,
   "metadata": {},
   "outputs": [
    {
     "name": "stdout",
     "output_type": "stream",
     "text": [
      "geeks\n",
      "geeks foe geeks\n"
     ]
    }
   ],
   "source": [
    "print(\"geeks\")\n",
    "print(\"geeks foe geeks\")"
   ]
  },
  {
   "cell_type": "code",
   "execution_count": 29,
   "metadata": {},
   "outputs": [
    {
     "name": "stdout",
     "output_type": "stream",
     "text": [
      "geeks ]geeks foe geeks\n"
     ]
    }
   ],
   "source": [
    "print(\"geeks\",end=\" ]\")\n",
    "print(\"geeks foe geeks\")"
   ]
  },
  {
   "cell_type": "markdown",
   "metadata": {},
   "source": [
    "#### Taking multiple imputs "
   ]
  },
  {
   "cell_type": "code",
   "execution_count": 30,
   "metadata": {},
   "outputs": [
    {
     "name": "stdout",
     "output_type": "stream",
     "text": [
      "enter values\n",
      "[]\n"
     ]
    }
   ],
   "source": [
    "y=[int(i) for i in input(\"enter values\").split()]\n",
    "print(y)\n"
   ]
  },
  {
   "cell_type": "code",
   "execution_count": 31,
   "metadata": {},
   "outputs": [
    {
     "name": "stdout",
     "output_type": "stream",
     "text": [
      "G F G#soma\n"
     ]
    }
   ],
   "source": [
    "print('G','F','G', end='#') \n",
    "print('soma')"
   ]
  },
  {
   "cell_type": "code",
   "execution_count": 32,
   "metadata": {
    "scrolled": true
   },
   "outputs": [
    {
     "name": "stdout",
     "output_type": "stream",
     "text": [
      "G#F#G\n",
      "soma\n"
     ]
    }
   ],
   "source": [
    "print('G','F','G', sep='#') \n",
    "print('soma')"
   ]
  },
  {
   "cell_type": "markdown",
   "metadata": {},
   "source": [
    "#### Packing and Unpacking"
   ]
  },
  {
   "cell_type": "code",
   "execution_count": 33,
   "metadata": {},
   "outputs": [],
   "source": [
    "#unpacking Example\n",
    "def fun(a,b,c,d):\n",
    "    print(a,b,c,d)"
   ]
  },
  {
   "cell_type": "code",
   "execution_count": 34,
   "metadata": {},
   "outputs": [
    {
     "name": "stdout",
     "output_type": "stream",
     "text": [
      "1 2 3 4\n"
     ]
    }
   ],
   "source": [
    "l1=[1,2,3,4]\n",
    "fun(*l1)"
   ]
  },
  {
   "cell_type": "code",
   "execution_count": 35,
   "metadata": {},
   "outputs": [],
   "source": [
    "#Packing example\n",
    "def mysum(*arg):\n",
    "    sum=0\n",
    "    for i in range(0,len(arg)):\n",
    "        sum=sum + arg[i]\n",
    "    return sum"
   ]
  },
  {
   "cell_type": "code",
   "execution_count": 36,
   "metadata": {},
   "outputs": [
    {
     "data": {
      "text/plain": [
       "15"
      ]
     },
     "execution_count": 36,
     "metadata": {},
     "output_type": "execute_result"
    }
   ],
   "source": [
    "mysum(1,2,3,4,5)"
   ]
  },
  {
   "cell_type": "code",
   "execution_count": 37,
   "metadata": {},
   "outputs": [
    {
     "name": "stdout",
     "output_type": "stream",
     "text": [
      "Geeksforgeeks awesome world\n"
     ]
    }
   ],
   "source": [
    "#packing and unpacking\n",
    "def fun1(a,b,c):\n",
    "    print(a,b,c)\n",
    "def fun2(*args):\n",
    "    args=list(args)\n",
    "    args[0]='Geeksforgeeks'\n",
    "    args[1]='awesome'\n",
    "    fun1(*args)\n",
    "fun2('Hello','beautiful','world')"
   ]
  },
  {
   "cell_type": "code",
   "execution_count": 38,
   "metadata": {},
   "outputs": [],
   "source": [
    "####   ** is used for dictionaries"
   ]
  },
  {
   "cell_type": "code",
   "execution_count": 39,
   "metadata": {},
   "outputs": [],
   "source": [
    "#Unpacking of dictionaries\n",
    "\n",
    "def fun(a,b,c):\n",
    "    print(a,b,c)"
   ]
  },
  {
   "cell_type": "code",
   "execution_count": 40,
   "metadata": {},
   "outputs": [],
   "source": [
    "d= {'a':1,'b':2,'c':3}"
   ]
  },
  {
   "cell_type": "code",
   "execution_count": 41,
   "metadata": {},
   "outputs": [
    {
     "name": "stdout",
     "output_type": "stream",
     "text": [
      "1 2 3\n"
     ]
    }
   ],
   "source": [
    "fun(**d)"
   ]
  },
  {
   "cell_type": "code",
   "execution_count": 42,
   "metadata": {},
   "outputs": [],
   "source": [
    "# Packing of Dictionaries\n",
    "\n",
    "def fun(**kwa):\n",
    "    print(type(kwa))\n",
    "    for key in kwa:\n",
    "        print(key ,kwa[key])"
   ]
  },
  {
   "cell_type": "code",
   "execution_count": 43,
   "metadata": {},
   "outputs": [
    {
     "name": "stdout",
     "output_type": "stream",
     "text": [
      "<class 'dict'>\n",
      "name geeks\n",
      "ID 101\n",
      "language Python\n"
     ]
    }
   ],
   "source": [
    "fun(name='geeks',ID=\"101\",language=\"Python\")"
   ]
  },
  {
   "cell_type": "markdown",
   "metadata": {},
   "source": [
    "#### switch-Case"
   ]
  },
  {
   "cell_type": "code",
   "execution_count": 44,
   "metadata": {},
   "outputs": [
    {
     "name": "stdout",
     "output_type": "stream",
     "text": [
      "1\n"
     ]
    },
    {
     "ename": "KeyError",
     "evalue": "'C'",
     "output_type": "error",
     "traceback": [
      "\u001b[1;31m---------------------------------------------------------------------------\u001b[0m",
      "\u001b[1;31mKeyError\u001b[0m                                  Traceback (most recent call last)",
      "\u001b[1;32m<ipython-input-44-bab64ecdb2d1>\u001b[0m in \u001b[0;36m<module>\u001b[1;34m\u001b[0m\n\u001b[0;32m      1\u001b[0m \u001b[0mdic\u001b[0m \u001b[1;33m=\u001b[0m \u001b[1;33m{\u001b[0m\u001b[1;34m\"A\"\u001b[0m\u001b[1;33m:\u001b[0m\u001b[1;36m1\u001b[0m\u001b[1;33m,\u001b[0m \u001b[1;34m\"B\"\u001b[0m\u001b[1;33m:\u001b[0m\u001b[1;36m2\u001b[0m\u001b[1;33m}\u001b[0m\u001b[1;33m\u001b[0m\u001b[1;33m\u001b[0m\u001b[0m\n\u001b[0;32m      2\u001b[0m \u001b[0mprint\u001b[0m\u001b[1;33m(\u001b[0m\u001b[0mdic\u001b[0m\u001b[1;33m[\u001b[0m\u001b[1;34m\"A\"\u001b[0m\u001b[1;33m]\u001b[0m\u001b[1;33m)\u001b[0m\u001b[1;33m\u001b[0m\u001b[1;33m\u001b[0m\u001b[0m\n\u001b[1;32m----> 3\u001b[1;33m \u001b[0mprint\u001b[0m\u001b[1;33m(\u001b[0m\u001b[0mdic\u001b[0m\u001b[1;33m[\u001b[0m\u001b[1;34m\"C\"\u001b[0m\u001b[1;33m]\u001b[0m\u001b[1;33m)\u001b[0m\u001b[1;33m\u001b[0m\u001b[1;33m\u001b[0m\u001b[0m\n\u001b[0m",
      "\u001b[1;31mKeyError\u001b[0m: 'C'"
     ]
    }
   ],
   "source": [
    "dic = {\"A\":1, \"B\":2} \n",
    "print(dic[\"A\"])\n",
    "print(dic[\"C\"])"
   ]
  },
  {
   "cell_type": "code",
   "execution_count": 45,
   "metadata": {},
   "outputs": [
    {
     "name": "stdout",
     "output_type": "stream",
     "text": [
      "1\n",
      "None\n"
     ]
    }
   ],
   "source": [
    "dic = {\"A\":1, \"B\":2} \n",
    "print(dic.get(\"A\"))\n",
    "print(dic.get(\"C\"))"
   ]
  },
  {
   "cell_type": "code",
   "execution_count": 46,
   "metadata": {},
   "outputs": [
    {
     "name": "stdout",
     "output_type": "stream",
     "text": [
      "zero\n"
     ]
    }
   ],
   "source": [
    "def number_to_strings(argument):\n",
    "    swither1={0:\"zero\",1:\"one\",2:\"two\"}\n",
    "    return swither1.get(argument)\n",
    "if __name__==\"__main__\":\n",
    "    argument=0\n",
    "    print(number_to_strings(argument))"
   ]
  },
  {
   "cell_type": "markdown",
   "metadata": {},
   "source": [
    "#### Enumerate "
   ]
  },
  {
   "cell_type": "code",
   "execution_count": 8,
   "metadata": {},
   "outputs": [
    {
     "name": "stdout",
     "output_type": "stream",
     "text": [
      "(0, 'Aston')\n",
      "(1, 'Audi')\n",
      "(2, 'McLaren ')\n"
     ]
    }
   ],
   "source": [
    "cars = (\"Aston\" , \"Audi\", \"McLaren \") \n",
    "for x in enumerate(cars): \n",
    "    print (x)"
   ]
  },
  {
   "cell_type": "markdown",
   "metadata": {},
   "source": [
    "#### Copying"
   ]
  },
  {
   "cell_type": "code",
   "execution_count": 48,
   "metadata": {},
   "outputs": [],
   "source": [
    "list1=[5,4,3,2,1]\n",
    "list2=list1"
   ]
  },
  {
   "cell_type": "code",
   "execution_count": 49,
   "metadata": {},
   "outputs": [
    {
     "data": {
      "text/plain": [
       "[5, 4, 3, 2, 1]"
      ]
     },
     "execution_count": 49,
     "metadata": {},
     "output_type": "execute_result"
    }
   ],
   "source": [
    "list2"
   ]
  },
  {
   "cell_type": "code",
   "execution_count": 50,
   "metadata": {},
   "outputs": [
    {
     "data": {
      "text/plain": [
       "2074043357768"
      ]
     },
     "execution_count": 50,
     "metadata": {},
     "output_type": "execute_result"
    }
   ],
   "source": [
    "id(list1)"
   ]
  },
  {
   "cell_type": "code",
   "execution_count": 51,
   "metadata": {},
   "outputs": [
    {
     "data": {
      "text/plain": [
       "2074043357768"
      ]
     },
     "execution_count": 51,
     "metadata": {},
     "output_type": "execute_result"
    }
   ],
   "source": [
    "id(list2)"
   ]
  },
  {
   "cell_type": "code",
   "execution_count": 52,
   "metadata": {},
   "outputs": [],
   "source": [
    "list1+=[1,2,3,4]\n"
   ]
  },
  {
   "cell_type": "code",
   "execution_count": 53,
   "metadata": {},
   "outputs": [
    {
     "data": {
      "text/plain": [
       "2074043357768"
      ]
     },
     "execution_count": 53,
     "metadata": {},
     "output_type": "execute_result"
    }
   ],
   "source": [
    "id(list1)"
   ]
  },
  {
   "cell_type": "code",
   "execution_count": 54,
   "metadata": {},
   "outputs": [
    {
     "name": "stdout",
     "output_type": "stream",
     "text": [
      "[5, 4, 3, 2, 1, 1, 2, 3, 4]\n"
     ]
    }
   ],
   "source": [
    "print(list1)"
   ]
  },
  {
   "cell_type": "code",
   "execution_count": 55,
   "metadata": {},
   "outputs": [
    {
     "name": "stdout",
     "output_type": "stream",
     "text": [
      "[5, 4, 3, 2, 1, 1, 2, 3, 4]\n"
     ]
    }
   ],
   "source": [
    "print(list2)"
   ]
  },
  {
   "cell_type": "code",
   "execution_count": 56,
   "metadata": {},
   "outputs": [
    {
     "data": {
      "text/plain": [
       "2074043357768"
      ]
     },
     "execution_count": 56,
     "metadata": {},
     "output_type": "execute_result"
    }
   ],
   "source": [
    "id(list2)"
   ]
  },
  {
   "cell_type": "markdown",
   "metadata": {},
   "source": [
    "##### expression list1 += [1, 2, 3, 4] modifies the list in-place, means it extends the list such that “list1” and “list2” still have the reference to the same list."
   ]
  },
  {
   "cell_type": "code",
   "execution_count": 19,
   "metadata": {},
   "outputs": [],
   "source": [
    "list1=[5,4,3,2,1]\n",
    "list2=list1"
   ]
  },
  {
   "cell_type": "code",
   "execution_count": 21,
   "metadata": {},
   "outputs": [
    {
     "data": {
      "text/plain": [
       "1713698309128"
      ]
     },
     "execution_count": 21,
     "metadata": {},
     "output_type": "execute_result"
    }
   ],
   "source": [
    "id(list1)"
   ]
  },
  {
   "cell_type": "code",
   "execution_count": 22,
   "metadata": {},
   "outputs": [
    {
     "data": {
      "text/plain": [
       "1713698309128"
      ]
     },
     "execution_count": 22,
     "metadata": {},
     "output_type": "execute_result"
    }
   ],
   "source": [
    "id(list2)"
   ]
  },
  {
   "cell_type": "code",
   "execution_count": 23,
   "metadata": {},
   "outputs": [],
   "source": [
    "list1=list1+[1,2,3,4]"
   ]
  },
  {
   "cell_type": "code",
   "execution_count": 24,
   "metadata": {},
   "outputs": [
    {
     "data": {
      "text/plain": [
       "1715838342920"
      ]
     },
     "execution_count": 24,
     "metadata": {},
     "output_type": "execute_result"
    }
   ],
   "source": [
    "id(list1)"
   ]
  },
  {
   "cell_type": "code",
   "execution_count": 25,
   "metadata": {},
   "outputs": [
    {
     "name": "stdout",
     "output_type": "stream",
     "text": [
      "[5, 4, 3, 2, 1, 1, 2, 3, 4]\n"
     ]
    }
   ],
   "source": [
    "print(list1)"
   ]
  },
  {
   "cell_type": "code",
   "execution_count": 26,
   "metadata": {},
   "outputs": [
    {
     "name": "stdout",
     "output_type": "stream",
     "text": [
      "[5, 4, 3, 2, 1]\n"
     ]
    }
   ],
   "source": [
    "print(list2)"
   ]
  },
  {
   "cell_type": "markdown",
   "metadata": {},
   "source": [
    "#### expression list1 = list1 + [1, 2, 3, 4] creates a new list and changes “list1” reference to that new list and “list2” still refer to the old list."
   ]
  },
  {
   "cell_type": "code",
   "execution_count": 63,
   "metadata": {},
   "outputs": [
    {
     "name": "stdout",
     "output_type": "stream",
     "text": [
      "2074080365448\n",
      "2074081154952\n"
     ]
    }
   ],
   "source": [
    "list1 = [] \n",
    "list2 = []  \n",
    "print(id(list1)) \n",
    "print(id(list2))"
   ]
  },
  {
   "cell_type": "markdown",
   "metadata": {},
   "source": [
    "#### Fibonocci Series"
   ]
  },
  {
   "cell_type": "code",
   "execution_count": 27,
   "metadata": {},
   "outputs": [],
   "source": [
    "def generator1(limit):\n",
    "    a=0\n",
    "    b=1\n",
    "    while(a<limit):\n",
    "        yield a\n",
    "        a,b=b,a+b\n",
    "        "
   ]
  },
  {
   "cell_type": "code",
   "execution_count": 28,
   "metadata": {},
   "outputs": [
    {
     "data": {
      "text/plain": [
       "<generator object generator1 at 0x0000018F7FF3B9A8>"
      ]
     },
     "execution_count": 28,
     "metadata": {},
     "output_type": "execute_result"
    }
   ],
   "source": [
    "generator1(30)"
   ]
  },
  {
   "cell_type": "code",
   "execution_count": 30,
   "metadata": {},
   "outputs": [
    {
     "name": "stdout",
     "output_type": "stream",
     "text": [
      "0\n",
      "1\n",
      "1\n",
      "2\n",
      "3\n",
      "5\n",
      "8\n",
      "13\n",
      "21\n"
     ]
    }
   ],
   "source": [
    "for i in generator1(30):\n",
    "    print(i)"
   ]
  },
  {
   "cell_type": "markdown",
   "metadata": {},
   "source": [
    "#### diffenrance between iterator and iterable"
   ]
  },
  {
   "cell_type": "code",
   "execution_count": 66,
   "metadata": {},
   "outputs": [
    {
     "name": "stdout",
     "output_type": "stream",
     "text": [
      "34\n",
      "[4, 5]\n",
      "(4, 5)\n",
      "{'a': 4}\n",
      "dfsdf\n",
      "4.5\n"
     ]
    }
   ],
   "source": [
    "for element in [34, [4, 5], (4, 5), {\"a\":4}, \"dfsdf\", 4.5]:\n",
    "    print(element)"
   ]
  },
  {
   "cell_type": "markdown",
   "metadata": {},
   "source": [
    "#### Class Method and staticmethod"
   ]
  },
  {
   "cell_type": "code",
   "execution_count": 38,
   "metadata": {},
   "outputs": [
    {
     "name": "stdout",
     "output_type": "stream",
     "text": [
      "21\n",
      "24\n",
      "True\n",
      "<__main__.Person object at 0x0000018F7FDAC4A8>\n",
      "mayank\n"
     ]
    }
   ],
   "source": [
    "from datetime import date\n",
    "class Person:\n",
    "    def __init__(self, name, age): \n",
    "        self.name = name \n",
    "        self.age = age\n",
    "    @classmethod\n",
    "    def fromBirthYear(cls, name, year):\n",
    "        return cls(name, date.today().year - year)\n",
    "    @staticmethod\n",
    "    def isAdult(age):\n",
    "        return age > 18\n",
    "person1 = Person('mayank', 21)\n",
    "person2 = Person.fromBirthYear('mayank', 1996) \n",
    "print(person1.age)\n",
    "print(person2.age)\n",
    "#print the result\n",
    "print(Person.isAdult(22))\n",
    "print(person2.fromBirthYear('Aditya',1980))\n",
    "print(person2.name)"
   ]
  },
  {
   "cell_type": "markdown",
   "metadata": {},
   "source": [
    "#### Nested function"
   ]
  },
  {
   "cell_type": "code",
   "execution_count": 39,
   "metadata": {},
   "outputs": [
    {
     "name": "stdout",
     "output_type": "stream",
     "text": [
      "Hey\n"
     ]
    }
   ],
   "source": [
    "def out_fun(text1):\n",
    "    #text2=text\n",
    "    \n",
    "    def inn_fun():\n",
    "        print(text1)\n",
    "    \n",
    "    \n",
    "    inn_fun()\n",
    "    \n",
    "if __name__=='__main__':\n",
    "    out_fun('Hey')"
   ]
  },
  {
   "cell_type": "markdown",
   "metadata": {},
   "source": [
    "#### Closures"
   ]
  },
  {
   "cell_type": "code",
   "execution_count": 40,
   "metadata": {},
   "outputs": [
    {
     "name": "stdout",
     "output_type": "stream",
     "text": [
      "Hey\n"
     ]
    }
   ],
   "source": [
    "def outerFunction(text):\n",
    "    #text=text\n",
    "    def innerFunction():\n",
    "        print(text)\n",
    "    return innerFunction\n",
    "\n",
    "if __name__==\"__main__\":\n",
    "    x=outerFunction('Hey')\n",
    "    x()"
   ]
  },
  {
   "cell_type": "code",
   "execution_count": 70,
   "metadata": {},
   "outputs": [
    {
     "name": "stdout",
     "output_type": "stream",
     "text": [
      "6\n",
      "Aditya\n",
      "9\n",
      "Aditya\n",
      "5\n",
      "Aditya\n",
      "10\n",
      "Aditya\n"
     ]
    }
   ],
   "source": [
    "import logging \n",
    "\n",
    "def logger(func): \n",
    "    def log_func(*args): \n",
    "        print(func(*args)) \n",
    "    # Necessary for closure to work (returning WITHOUT parenthesis) \n",
    "        print(\"Aditya\")\n",
    "    return log_func               \n",
    "  \n",
    "def add(x, y): \n",
    "    return x+y \n",
    "  \n",
    "def sub(x, y): \n",
    "    return x-y \n",
    "  \n",
    "add_logger = logger(add) \n",
    "sub_logger = logger(sub) \n",
    "  \n",
    "add_logger(3, 3) \n",
    "add_logger(4, 5) \n",
    "  \n",
    "sub_logger(10, 5) \n",
    "sub_logger(20, 10)"
   ]
  },
  {
   "cell_type": "markdown",
   "metadata": {},
   "source": [
    "#### Ternary Operation"
   ]
  },
  {
   "cell_type": "code",
   "execution_count": 71,
   "metadata": {},
   "outputs": [
    {
     "data": {
      "text/plain": [
       "20"
      ]
     },
     "execution_count": 71,
     "metadata": {},
     "output_type": "execute_result"
    }
   ],
   "source": [
    "#method:1\n",
    "a,b=10,20\n",
    "a if a>b else b"
   ]
  },
  {
   "cell_type": "code",
   "execution_count": null,
   "metadata": {},
   "outputs": [],
   "source": []
  },
  {
   "cell_type": "code",
   "execution_count": null,
   "metadata": {},
   "outputs": [],
   "source": []
  },
  {
   "cell_type": "code",
   "execution_count": null,
   "metadata": {},
   "outputs": [],
   "source": []
  }
 ],
 "metadata": {
  "kernelspec": {
   "display_name": "Python 3",
   "language": "python",
   "name": "python3"
  },
  "language_info": {
   "codemirror_mode": {
    "name": "ipython",
    "version": 3
   },
   "file_extension": ".py",
   "mimetype": "text/x-python",
   "name": "python",
   "nbconvert_exporter": "python",
   "pygments_lexer": "ipython3",
   "version": "3.7.1"
  }
 },
 "nbformat": 4,
 "nbformat_minor": 2
}
