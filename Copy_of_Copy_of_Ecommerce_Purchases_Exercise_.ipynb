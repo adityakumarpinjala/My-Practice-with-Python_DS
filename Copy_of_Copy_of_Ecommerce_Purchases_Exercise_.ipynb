{
  "nbformat": 4,
  "nbformat_minor": 0,
  "metadata": {
    "kernelspec": {
      "display_name": "Python 3",
      "language": "python",
      "name": "python3"
    },
    "language_info": {
      "codemirror_mode": {
        "name": "ipython",
        "version": 3
      },
      "file_extension": ".py",
      "mimetype": "text/x-python",
      "name": "python",
      "nbconvert_exporter": "python",
      "pygments_lexer": "ipython3",
      "version": "3.6.5"
    },
    "colab": {
      "name": "Copy of Copy of Ecommerce Purchases Exercise .ipynb",
      "provenance": [],
      "toc_visible": true,
      "include_colab_link": true
    }
  },
  "cells": [
    {
      "cell_type": "markdown",
      "metadata": {
        "id": "view-in-github",
        "colab_type": "text"
      },
      "source": [
        "<a href=\"https://colab.research.google.com/github/adityakumarpinjala/My-Practice-with-Python_DS/blob/master/Copy_of_Copy_of_Ecommerce_Purchases_Exercise_.ipynb\" target=\"_parent\"><img src=\"https://colab.research.google.com/assets/colab-badge.svg\" alt=\"Open In Colab\"/></a>"
      ]
    },
    {
      "cell_type": "markdown",
      "metadata": {
        "id": "XyA3C3PR249y"
      },
      "source": [
        "# Ecommerce Purchases Exercise\n",
        "\n",
        "In this Exercise you will be given some Fake Data about some purchases done through Amazon! Just go ahead and follow the directions and try your best to answer the questions and complete the tasks. Most of the tasks can be solved in different ways.\n",
        "\n",
        "Please excuse anything that doesn't make \"Real-World\" sense in the dataframe, all the data is fake and made-up.\n",
        "\n",
        "Also note that all of these questions can be answered with one line of code.\n",
        "____"
      ]
    },
    {
      "cell_type": "code",
      "metadata": {
        "id": "s0eemnBU2492"
      },
      "source": [
        "import numpy as np\n",
        "import pandas as pd"
      ],
      "execution_count": null,
      "outputs": []
    },
    {
      "cell_type": "code",
      "metadata": {
        "id": "crXxGJ5H2495"
      },
      "source": [
        "path = r'https://raw.githubusercontent.com/cruseakshay/sql_practice/main/Ecommerce_Purchases_data.csv'\n",
        "ecom = pd.read_csv(path)"
      ],
      "execution_count": null,
      "outputs": []
    },
    {
      "cell_type": "markdown",
      "metadata": {
        "id": "bydHTjUv2497"
      },
      "source": [
        "**Inspect first 10 rows of the data.**"
      ]
    },
    {
      "cell_type": "code",
      "metadata": {
        "id": "aA1qC2Fb2498",
        "colab": {
          "base_uri": "https://localhost:8080/",
          "height": 847
        },
        "outputId": "769dfac9-ea79-4c2e-a3ab-9fc1938bd2f2"
      },
      "source": [
        "ecom.head(10)"
      ],
      "execution_count": null,
      "outputs": [
        {
          "output_type": "execute_result",
          "data": {
            "text/html": [
              "<div>\n",
              "<style scoped>\n",
              "    .dataframe tbody tr th:only-of-type {\n",
              "        vertical-align: middle;\n",
              "    }\n",
              "\n",
              "    .dataframe tbody tr th {\n",
              "        vertical-align: top;\n",
              "    }\n",
              "\n",
              "    .dataframe thead th {\n",
              "        text-align: right;\n",
              "    }\n",
              "</style>\n",
              "<table border=\"1\" class=\"dataframe\">\n",
              "  <thead>\n",
              "    <tr style=\"text-align: right;\">\n",
              "      <th></th>\n",
              "      <th>Address</th>\n",
              "      <th>Lot</th>\n",
              "      <th>AM or PM</th>\n",
              "      <th>Browser Info</th>\n",
              "      <th>Company</th>\n",
              "      <th>Credit Card</th>\n",
              "      <th>CC Exp Date</th>\n",
              "      <th>CC Security Code</th>\n",
              "      <th>CC Provider</th>\n",
              "      <th>Email</th>\n",
              "      <th>Job</th>\n",
              "      <th>IP Address</th>\n",
              "      <th>Language</th>\n",
              "      <th>Purchase Price</th>\n",
              "    </tr>\n",
              "  </thead>\n",
              "  <tbody>\n",
              "    <tr>\n",
              "      <th>0</th>\n",
              "      <td>16629 Pace Camp Apt. 448 Alexisborough, NE 771...</td>\n",
              "      <td>46 in</td>\n",
              "      <td>PM</td>\n",
              "      <td>Opera/9.56.(X11; Linux x86_64; sl-SI) Presto/2...</td>\n",
              "      <td>Martinez-Herman</td>\n",
              "      <td>6011929061123406</td>\n",
              "      <td>02/20</td>\n",
              "      <td>900</td>\n",
              "      <td>JCB 16 digit</td>\n",
              "      <td>pdunlap@yahoo.com</td>\n",
              "      <td>Scientist, product/process development</td>\n",
              "      <td>149.146.147.205</td>\n",
              "      <td>el</td>\n",
              "      <td>98.14</td>\n",
              "    </tr>\n",
              "    <tr>\n",
              "      <th>1</th>\n",
              "      <td>9374 Jasmine Spurs Suite 508 South John, TN 84...</td>\n",
              "      <td>28 rn</td>\n",
              "      <td>PM</td>\n",
              "      <td>Opera/8.93.(Windows 98; Win 9x 4.90; en-US) Pr...</td>\n",
              "      <td>Fletcher, Richards and Whitaker</td>\n",
              "      <td>3337758169645356</td>\n",
              "      <td>11/18</td>\n",
              "      <td>561</td>\n",
              "      <td>Mastercard</td>\n",
              "      <td>anthony41@reed.com</td>\n",
              "      <td>Drilling engineer</td>\n",
              "      <td>15.160.41.51</td>\n",
              "      <td>fr</td>\n",
              "      <td>70.73</td>\n",
              "    </tr>\n",
              "    <tr>\n",
              "      <th>2</th>\n",
              "      <td>Unit 0065 Box 5052 DPO AP 27450</td>\n",
              "      <td>94 vE</td>\n",
              "      <td>PM</td>\n",
              "      <td>Mozilla/5.0 (compatible; MSIE 9.0; Windows NT ...</td>\n",
              "      <td>Simpson, Williams and Pham</td>\n",
              "      <td>675957666125</td>\n",
              "      <td>08/19</td>\n",
              "      <td>699</td>\n",
              "      <td>JCB 16 digit</td>\n",
              "      <td>amymiller@morales-harrison.com</td>\n",
              "      <td>Customer service manager</td>\n",
              "      <td>132.207.160.22</td>\n",
              "      <td>de</td>\n",
              "      <td>0.95</td>\n",
              "    </tr>\n",
              "    <tr>\n",
              "      <th>3</th>\n",
              "      <td>7780 Julia Fords New Stacy, WA 45798</td>\n",
              "      <td>36 vm</td>\n",
              "      <td>PM</td>\n",
              "      <td>Mozilla/5.0 (Macintosh; Intel Mac OS X 10_8_0 ...</td>\n",
              "      <td>Williams, Marshall and Buchanan</td>\n",
              "      <td>6011578504430710</td>\n",
              "      <td>02/24</td>\n",
              "      <td>384</td>\n",
              "      <td>Discover</td>\n",
              "      <td>brent16@olson-robinson.info</td>\n",
              "      <td>Drilling engineer</td>\n",
              "      <td>30.250.74.19</td>\n",
              "      <td>es</td>\n",
              "      <td>78.04</td>\n",
              "    </tr>\n",
              "    <tr>\n",
              "      <th>4</th>\n",
              "      <td>23012 Munoz Drive Suite 337 New Cynthia, TX 57826</td>\n",
              "      <td>20 IE</td>\n",
              "      <td>AM</td>\n",
              "      <td>Opera/9.58.(X11; Linux x86_64; it-IT) Presto/2...</td>\n",
              "      <td>Brown, Watson and Andrews</td>\n",
              "      <td>6011456623207998</td>\n",
              "      <td>10/25</td>\n",
              "      <td>678</td>\n",
              "      <td>Diners Club / Carte Blanche</td>\n",
              "      <td>christopherwright@gmail.com</td>\n",
              "      <td>Fine artist</td>\n",
              "      <td>24.140.33.94</td>\n",
              "      <td>es</td>\n",
              "      <td>77.82</td>\n",
              "    </tr>\n",
              "    <tr>\n",
              "      <th>5</th>\n",
              "      <td>7502 Powell Mission Apt. 768 Travisland, VA 30...</td>\n",
              "      <td>21 XT</td>\n",
              "      <td>PM</td>\n",
              "      <td>Mozilla/5.0 (Macintosh; U; PPC Mac OS X 10_8_5...</td>\n",
              "      <td>Silva-Anderson</td>\n",
              "      <td>30246185196287</td>\n",
              "      <td>07/25</td>\n",
              "      <td>7169</td>\n",
              "      <td>Discover</td>\n",
              "      <td>ynguyen@gmail.com</td>\n",
              "      <td>Fish farm manager</td>\n",
              "      <td>55.96.152.147</td>\n",
              "      <td>ru</td>\n",
              "      <td>25.15</td>\n",
              "    </tr>\n",
              "    <tr>\n",
              "      <th>6</th>\n",
              "      <td>93971 Conway Causeway Andersonburgh, AZ 75107</td>\n",
              "      <td>96 Xt</td>\n",
              "      <td>AM</td>\n",
              "      <td>Mozilla/5.0 (compatible; MSIE 7.0; Windows NT ...</td>\n",
              "      <td>Gibson and Sons</td>\n",
              "      <td>6011398782655569</td>\n",
              "      <td>07/24</td>\n",
              "      <td>714</td>\n",
              "      <td>VISA 16 digit</td>\n",
              "      <td>olivia04@yahoo.com</td>\n",
              "      <td>Dancer</td>\n",
              "      <td>127.252.144.18</td>\n",
              "      <td>de</td>\n",
              "      <td>88.56</td>\n",
              "    </tr>\n",
              "    <tr>\n",
              "      <th>7</th>\n",
              "      <td>260 Rachel Plains Suite 366 Castroberg, WV 248...</td>\n",
              "      <td>96 pG</td>\n",
              "      <td>PM</td>\n",
              "      <td>Mozilla/5.0 (X11; Linux i686) AppleWebKit/5350...</td>\n",
              "      <td>Marshall-Collins</td>\n",
              "      <td>561252141909</td>\n",
              "      <td>06/25</td>\n",
              "      <td>256</td>\n",
              "      <td>VISA 13 digit</td>\n",
              "      <td>phillip48@parks.info</td>\n",
              "      <td>Event organiser</td>\n",
              "      <td>224.247.97.150</td>\n",
              "      <td>pt</td>\n",
              "      <td>44.25</td>\n",
              "    </tr>\n",
              "    <tr>\n",
              "      <th>8</th>\n",
              "      <td>2129 Dylan Burg New Michelle, ME 28650</td>\n",
              "      <td>45 JN</td>\n",
              "      <td>PM</td>\n",
              "      <td>Mozilla/5.0 (Macintosh; U; Intel Mac OS X 10_7...</td>\n",
              "      <td>Galloway and Sons</td>\n",
              "      <td>180041795790001</td>\n",
              "      <td>04/24</td>\n",
              "      <td>899</td>\n",
              "      <td>JCB 16 digit</td>\n",
              "      <td>kdavis@rasmussen.com</td>\n",
              "      <td>Financial manager</td>\n",
              "      <td>146.234.201.229</td>\n",
              "      <td>ru</td>\n",
              "      <td>59.54</td>\n",
              "    </tr>\n",
              "    <tr>\n",
              "      <th>9</th>\n",
              "      <td>3795 Dawson Extensions Lake Tinafort, ID 88739</td>\n",
              "      <td>15 Ug</td>\n",
              "      <td>AM</td>\n",
              "      <td>Mozilla/5.0 (X11; Linux i686; rv:1.9.7.20) Gec...</td>\n",
              "      <td>Rivera, Buchanan and Ramirez</td>\n",
              "      <td>4396283918371</td>\n",
              "      <td>01/17</td>\n",
              "      <td>931</td>\n",
              "      <td>American Express</td>\n",
              "      <td>qcoleman@hunt-huerta.com</td>\n",
              "      <td>Forensic scientist</td>\n",
              "      <td>236.198.199.8</td>\n",
              "      <td>zh</td>\n",
              "      <td>95.63</td>\n",
              "    </tr>\n",
              "  </tbody>\n",
              "</table>\n",
              "</div>"
            ],
            "text/plain": [
              "                                             Address  ... Purchase Price\n",
              "0  16629 Pace Camp Apt. 448 Alexisborough, NE 771...  ...          98.14\n",
              "1  9374 Jasmine Spurs Suite 508 South John, TN 84...  ...          70.73\n",
              "2                    Unit 0065 Box 5052 DPO AP 27450  ...           0.95\n",
              "3               7780 Julia Fords New Stacy, WA 45798  ...          78.04\n",
              "4  23012 Munoz Drive Suite 337 New Cynthia, TX 57826  ...          77.82\n",
              "5  7502 Powell Mission Apt. 768 Travisland, VA 30...  ...          25.15\n",
              "6      93971 Conway Causeway Andersonburgh, AZ 75107  ...          88.56\n",
              "7  260 Rachel Plains Suite 366 Castroberg, WV 248...  ...          44.25\n",
              "8             2129 Dylan Burg New Michelle, ME 28650  ...          59.54\n",
              "9     3795 Dawson Extensions Lake Tinafort, ID 88739  ...          95.63\n",
              "\n",
              "[10 rows x 14 columns]"
            ]
          },
          "metadata": {
            "tags": []
          },
          "execution_count": 3
        }
      ]
    },
    {
      "cell_type": "markdown",
      "metadata": {
        "id": "31r9YOO324-B"
      },
      "source": [
        "**How many rows and columns are present in data?**"
      ]
    },
    {
      "cell_type": "code",
      "metadata": {
        "id": "KUZK0ml024-C",
        "colab": {
          "base_uri": "https://localhost:8080/"
        },
        "outputId": "45937df8-5313-443c-9488-65e18d41be8b"
      },
      "source": [
        "ecom.shape"
      ],
      "execution_count": null,
      "outputs": [
        {
          "output_type": "execute_result",
          "data": {
            "text/plain": [
              "(10000, 14)"
            ]
          },
          "metadata": {
            "tags": []
          },
          "execution_count": 4
        }
      ]
    },
    {
      "cell_type": "markdown",
      "metadata": {
        "id": "Y3mXAKB924-E"
      },
      "source": [
        "**What is the average Purchase Price?**"
      ]
    },
    {
      "cell_type": "code",
      "metadata": {
        "id": "w95MiYod24-F",
        "colab": {
          "base_uri": "https://localhost:8080/"
        },
        "outputId": "4af416cc-076a-4257-d287-d263a9a55010"
      },
      "source": [
        "ecom['Purchase Price'].mean()"
      ],
      "execution_count": null,
      "outputs": [
        {
          "output_type": "execute_result",
          "data": {
            "text/plain": [
              "50.34730200000025"
            ]
          },
          "metadata": {
            "tags": []
          },
          "execution_count": 6
        }
      ]
    },
    {
      "cell_type": "markdown",
      "metadata": {
        "id": "2PQ54aIz24-G"
      },
      "source": [
        "**What is the highest and the lowest purchase price?**"
      ]
    },
    {
      "cell_type": "code",
      "metadata": {
        "id": "g6KogETr24-K",
        "colab": {
          "base_uri": "https://localhost:8080/"
        },
        "outputId": "46b2ef3d-477c-4782-e4d4-fcadd919bd12"
      },
      "source": [
        "ecom['Purchase Price'].min()"
      ],
      "execution_count": null,
      "outputs": [
        {
          "output_type": "execute_result",
          "data": {
            "text/plain": [
              "0.0"
            ]
          },
          "metadata": {
            "tags": []
          },
          "execution_count": 8
        }
      ]
    },
    {
      "cell_type": "code",
      "metadata": {
        "id": "j3iDDHAjjGyn",
        "colab": {
          "base_uri": "https://localhost:8080/"
        },
        "outputId": "fdabecf5-3cfb-40c3-d334-ae033a978b4c"
      },
      "source": [
        "ecom['Purchase Price'].max()"
      ],
      "execution_count": null,
      "outputs": [
        {
          "output_type": "execute_result",
          "data": {
            "text/plain": [
              "99.99"
            ]
          },
          "metadata": {
            "tags": []
          },
          "execution_count": 9
        }
      ]
    },
    {
      "cell_type": "markdown",
      "metadata": {
        "id": "H5LPZoFW24-P"
      },
      "source": [
        "**How many people have English 'en' as their Language of choice on the website?**"
      ]
    },
    {
      "cell_type": "code",
      "metadata": {
        "id": "DzhJ9wls24-R",
        "colab": {
          "base_uri": "https://localhost:8080/",
          "height": 332
        },
        "outputId": "dc5be325-30d0-4783-9ece-383eeb7e6fef"
      },
      "source": [
        "ecom[ecom['AM or PM']].values_count()"
      ],
      "execution_count": null,
      "outputs": [
        {
          "output_type": "error",
          "ename": "KeyError",
          "evalue": "ignored",
          "traceback": [
            "\u001b[0;31m---------------------------------------------------------------------------\u001b[0m",
            "\u001b[0;31mKeyError\u001b[0m                                  Traceback (most recent call last)",
            "\u001b[0;32m<ipython-input-23-689d1eb65581>\u001b[0m in \u001b[0;36m<module>\u001b[0;34m()\u001b[0m\n\u001b[0;32m----> 1\u001b[0;31m \u001b[0mecom\u001b[0m\u001b[0;34m[\u001b[0m\u001b[0mecom\u001b[0m\u001b[0;34m[\u001b[0m\u001b[0;34m'AM or PM'\u001b[0m\u001b[0;34m]\u001b[0m\u001b[0;34m]\u001b[0m\u001b[0;34m.\u001b[0m\u001b[0mvalues_count\u001b[0m\u001b[0;34m(\u001b[0m\u001b[0;34m)\u001b[0m\u001b[0;34m\u001b[0m\u001b[0;34m\u001b[0m\u001b[0m\n\u001b[0m",
            "\u001b[0;32m/usr/local/lib/python3.7/dist-packages/pandas/core/frame.py\u001b[0m in \u001b[0;36m__getitem__\u001b[0;34m(self, key)\u001b[0m\n\u001b[1;32m   2910\u001b[0m             \u001b[0;32mif\u001b[0m \u001b[0mis_iterator\u001b[0m\u001b[0;34m(\u001b[0m\u001b[0mkey\u001b[0m\u001b[0;34m)\u001b[0m\u001b[0;34m:\u001b[0m\u001b[0;34m\u001b[0m\u001b[0;34m\u001b[0m\u001b[0m\n\u001b[1;32m   2911\u001b[0m                 \u001b[0mkey\u001b[0m \u001b[0;34m=\u001b[0m \u001b[0mlist\u001b[0m\u001b[0;34m(\u001b[0m\u001b[0mkey\u001b[0m\u001b[0;34m)\u001b[0m\u001b[0;34m\u001b[0m\u001b[0;34m\u001b[0m\u001b[0m\n\u001b[0;32m-> 2912\u001b[0;31m             \u001b[0mindexer\u001b[0m \u001b[0;34m=\u001b[0m \u001b[0mself\u001b[0m\u001b[0;34m.\u001b[0m\u001b[0mloc\u001b[0m\u001b[0;34m.\u001b[0m\u001b[0m_get_listlike_indexer\u001b[0m\u001b[0;34m(\u001b[0m\u001b[0mkey\u001b[0m\u001b[0;34m,\u001b[0m \u001b[0maxis\u001b[0m\u001b[0;34m=\u001b[0m\u001b[0;36m1\u001b[0m\u001b[0;34m,\u001b[0m \u001b[0mraise_missing\u001b[0m\u001b[0;34m=\u001b[0m\u001b[0;32mTrue\u001b[0m\u001b[0;34m)\u001b[0m\u001b[0;34m[\u001b[0m\u001b[0;36m1\u001b[0m\u001b[0;34m]\u001b[0m\u001b[0;34m\u001b[0m\u001b[0;34m\u001b[0m\u001b[0m\n\u001b[0m\u001b[1;32m   2913\u001b[0m \u001b[0;34m\u001b[0m\u001b[0m\n\u001b[1;32m   2914\u001b[0m         \u001b[0;31m# take() does not accept boolean indexers\u001b[0m\u001b[0;34m\u001b[0m\u001b[0;34m\u001b[0m\u001b[0;34m\u001b[0m\u001b[0m\n",
            "\u001b[0;32m/usr/local/lib/python3.7/dist-packages/pandas/core/indexing.py\u001b[0m in \u001b[0;36m_get_listlike_indexer\u001b[0;34m(self, key, axis, raise_missing)\u001b[0m\n\u001b[1;32m   1252\u001b[0m             \u001b[0mkeyarr\u001b[0m\u001b[0;34m,\u001b[0m \u001b[0mindexer\u001b[0m\u001b[0;34m,\u001b[0m \u001b[0mnew_indexer\u001b[0m \u001b[0;34m=\u001b[0m \u001b[0max\u001b[0m\u001b[0;34m.\u001b[0m\u001b[0m_reindex_non_unique\u001b[0m\u001b[0;34m(\u001b[0m\u001b[0mkeyarr\u001b[0m\u001b[0;34m)\u001b[0m\u001b[0;34m\u001b[0m\u001b[0;34m\u001b[0m\u001b[0m\n\u001b[1;32m   1253\u001b[0m \u001b[0;34m\u001b[0m\u001b[0m\n\u001b[0;32m-> 1254\u001b[0;31m         \u001b[0mself\u001b[0m\u001b[0;34m.\u001b[0m\u001b[0m_validate_read_indexer\u001b[0m\u001b[0;34m(\u001b[0m\u001b[0mkeyarr\u001b[0m\u001b[0;34m,\u001b[0m \u001b[0mindexer\u001b[0m\u001b[0;34m,\u001b[0m \u001b[0maxis\u001b[0m\u001b[0;34m,\u001b[0m \u001b[0mraise_missing\u001b[0m\u001b[0;34m=\u001b[0m\u001b[0mraise_missing\u001b[0m\u001b[0;34m)\u001b[0m\u001b[0;34m\u001b[0m\u001b[0;34m\u001b[0m\u001b[0m\n\u001b[0m\u001b[1;32m   1255\u001b[0m         \u001b[0;32mreturn\u001b[0m \u001b[0mkeyarr\u001b[0m\u001b[0;34m,\u001b[0m \u001b[0mindexer\u001b[0m\u001b[0;34m\u001b[0m\u001b[0;34m\u001b[0m\u001b[0m\n\u001b[1;32m   1256\u001b[0m \u001b[0;34m\u001b[0m\u001b[0m\n",
            "\u001b[0;32m/usr/local/lib/python3.7/dist-packages/pandas/core/indexing.py\u001b[0m in \u001b[0;36m_validate_read_indexer\u001b[0;34m(self, key, indexer, axis, raise_missing)\u001b[0m\n\u001b[1;32m   1296\u001b[0m             \u001b[0;32mif\u001b[0m \u001b[0mmissing\u001b[0m \u001b[0;34m==\u001b[0m \u001b[0mlen\u001b[0m\u001b[0;34m(\u001b[0m\u001b[0mindexer\u001b[0m\u001b[0;34m)\u001b[0m\u001b[0;34m:\u001b[0m\u001b[0;34m\u001b[0m\u001b[0;34m\u001b[0m\u001b[0m\n\u001b[1;32m   1297\u001b[0m                 \u001b[0maxis_name\u001b[0m \u001b[0;34m=\u001b[0m \u001b[0mself\u001b[0m\u001b[0;34m.\u001b[0m\u001b[0mobj\u001b[0m\u001b[0;34m.\u001b[0m\u001b[0m_get_axis_name\u001b[0m\u001b[0;34m(\u001b[0m\u001b[0maxis\u001b[0m\u001b[0;34m)\u001b[0m\u001b[0;34m\u001b[0m\u001b[0;34m\u001b[0m\u001b[0m\n\u001b[0;32m-> 1298\u001b[0;31m                 \u001b[0;32mraise\u001b[0m \u001b[0mKeyError\u001b[0m\u001b[0;34m(\u001b[0m\u001b[0;34mf\"None of [{key}] are in the [{axis_name}]\"\u001b[0m\u001b[0;34m)\u001b[0m\u001b[0;34m\u001b[0m\u001b[0;34m\u001b[0m\u001b[0m\n\u001b[0m\u001b[1;32m   1299\u001b[0m \u001b[0;34m\u001b[0m\u001b[0m\n\u001b[1;32m   1300\u001b[0m             \u001b[0;31m# We (temporarily) allow for some missing keys with .loc, except in\u001b[0m\u001b[0;34m\u001b[0m\u001b[0;34m\u001b[0m\u001b[0;34m\u001b[0m\u001b[0m\n",
            "\u001b[0;31mKeyError\u001b[0m: \"None of [Index(['PM', 'PM', 'PM', 'PM', 'AM', 'PM', 'AM', 'PM', 'PM', 'AM',\\n       ...\\n       'PM', 'AM', 'PM', 'PM', 'PM', 'PM', 'AM', 'AM', 'PM', 'AM'],\\n      dtype='object', length=10000)] are in the [columns]\""
          ]
        }
      ]
    },
    {
      "cell_type": "markdown",
      "metadata": {
        "id": "B5AzD1dV24-V"
      },
      "source": [
        "**How many people have the job title of \"Lawyer\" ?**\n"
      ]
    },
    {
      "cell_type": "code",
      "metadata": {
        "id": "V587_94F24-X",
        "colab": {
          "base_uri": "https://localhost:8080/"
        },
        "outputId": "ea3b85ac-a989-46a8-e24e-c475201ff6d5"
      },
      "source": [
        "ecom[ecom['Job']=='Lawyer'].shape"
      ],
      "execution_count": null,
      "outputs": [
        {
          "output_type": "execute_result",
          "data": {
            "text/plain": [
              "(30, 14)"
            ]
          },
          "metadata": {
            "tags": []
          },
          "execution_count": 16
        }
      ]
    },
    {
      "cell_type": "markdown",
      "metadata": {
        "id": "ANZXYKlS24-a"
      },
      "source": [
        "**How many people made the purchase during the AM and how many people made the purchase during PM ?**"
      ]
    },
    {
      "cell_type": "code",
      "metadata": {
        "id": "Lwzx-SJB24-h",
        "colab": {
          "base_uri": "https://localhost:8080/"
        },
        "outputId": "df1bd2bf-62f3-497f-f519-9615bcc63064"
      },
      "source": [
        "ecom['AM or PM'].value_counts()"
      ],
      "execution_count": null,
      "outputs": [
        {
          "output_type": "execute_result",
          "data": {
            "text/plain": [
              "PM    5068\n",
              "AM    4932\n",
              "Name: AM or PM, dtype: int64"
            ]
          },
          "metadata": {
            "tags": []
          },
          "execution_count": 26
        }
      ]
    },
    {
      "cell_type": "markdown",
      "metadata": {
        "id": "KJEWIUHo24-j"
      },
      "source": [
        "**What are the 5 most common Job Titles?**"
      ]
    },
    {
      "cell_type": "code",
      "metadata": {
        "id": "FvKaL5EH24-l",
        "colab": {
          "base_uri": "https://localhost:8080/"
        },
        "outputId": "881b1d19-e63a-4c43-be5e-da23cb3f0180"
      },
      "source": [
        "ecom['Job'].value_counts()[:5]"
      ],
      "execution_count": null,
      "outputs": [
        {
          "output_type": "execute_result",
          "data": {
            "text/plain": [
              "Interior and spatial designer        31\n",
              "Lawyer                               30\n",
              "Social researcher                    28\n",
              "Research officer, political party    27\n",
              "Purchasing manager                   27\n",
              "Name: Job, dtype: int64"
            ]
          },
          "metadata": {
            "tags": []
          },
          "execution_count": 29
        }
      ]
    },
    {
      "cell_type": "markdown",
      "metadata": {
        "id": "xbDyscbG24-n"
      },
      "source": [
        "**Someone made a purchase that came from Lot: \"90 WT\" , what was the Purchase Price for this transaction?**"
      ]
    },
    {
      "cell_type": "code",
      "metadata": {
        "id": "7jJWP5cc24-q",
        "colab": {
          "base_uri": "https://localhost:8080/"
        },
        "outputId": "667b048a-c216-4a0f-9704-56429a5d9e86"
      },
      "source": [
        "ecom[ecom['Lot']=='90 WT']['Purchase Price']"
      ],
      "execution_count": null,
      "outputs": [
        {
          "output_type": "execute_result",
          "data": {
            "text/plain": [
              "513    75.1\n",
              "Name: Purchase Price, dtype: float64"
            ]
          },
          "metadata": {
            "tags": []
          },
          "execution_count": 34
        }
      ]
    },
    {
      "cell_type": "markdown",
      "metadata": {
        "id": "U4oWRtwb24-s"
      },
      "source": [
        "**What is the email of the person with the following Credit Card Number: 4926535242672853**"
      ]
    },
    {
      "cell_type": "code",
      "metadata": {
        "id": "skQ68kCu24-u",
        "colab": {
          "base_uri": "https://localhost:8080/",
          "height": 144
        },
        "outputId": "468f24f8-c37c-4743-fb2d-cff74ce16449"
      },
      "source": [
        "ecom[ecom['Credit Card']==4926535242672853]['Email']"
      ],
      "execution_count": null,
      "outputs": [
        {
          "output_type": "execute_result",
          "data": {
            "text/html": [
              "<div>\n",
              "<style scoped>\n",
              "    .dataframe tbody tr th:only-of-type {\n",
              "        vertical-align: middle;\n",
              "    }\n",
              "\n",
              "    .dataframe tbody tr th {\n",
              "        vertical-align: top;\n",
              "    }\n",
              "\n",
              "    .dataframe thead th {\n",
              "        text-align: right;\n",
              "    }\n",
              "</style>\n",
              "<table border=\"1\" class=\"dataframe\">\n",
              "  <thead>\n",
              "    <tr style=\"text-align: right;\">\n",
              "      <th></th>\n",
              "      <th>Address</th>\n",
              "      <th>Lot</th>\n",
              "      <th>AM or PM</th>\n",
              "      <th>Browser Info</th>\n",
              "      <th>Company</th>\n",
              "      <th>Credit Card</th>\n",
              "      <th>CC Exp Date</th>\n",
              "      <th>CC Security Code</th>\n",
              "      <th>CC Provider</th>\n",
              "      <th>Email</th>\n",
              "      <th>Job</th>\n",
              "      <th>IP Address</th>\n",
              "      <th>Language</th>\n",
              "      <th>Purchase Price</th>\n",
              "    </tr>\n",
              "  </thead>\n",
              "  <tbody>\n",
              "    <tr>\n",
              "      <th>1234</th>\n",
              "      <td>2470 Maria Manors Suite 185 Joneshaven, MN 87251</td>\n",
              "      <td>82 UX</td>\n",
              "      <td>PM</td>\n",
              "      <td>Mozilla/5.0 (X11; Linux x86_64; rv:1.9.5.20) G...</td>\n",
              "      <td>Cole, King and Bowers</td>\n",
              "      <td>4926535242672853</td>\n",
              "      <td>09/21</td>\n",
              "      <td>188</td>\n",
              "      <td>American Express</td>\n",
              "      <td>bondellen@williams-garza.com</td>\n",
              "      <td>Planning and development surveyor</td>\n",
              "      <td>159.182.3.50</td>\n",
              "      <td>ru</td>\n",
              "      <td>77.88</td>\n",
              "    </tr>\n",
              "  </tbody>\n",
              "</table>\n",
              "</div>"
            ],
            "text/plain": [
              "                                               Address  ... Purchase Price\n",
              "1234  2470 Maria Manors Suite 185 Joneshaven, MN 87251  ...          77.88\n",
              "\n",
              "[1 rows x 14 columns]"
            ]
          },
          "metadata": {
            "tags": []
          },
          "execution_count": 38
        }
      ]
    },
    {
      "cell_type": "markdown",
      "metadata": {
        "id": "3q-KKEVA24-w"
      },
      "source": [
        "**How many people have American Express as their Credit Card Provider and made a purchase above $95 ?**"
      ]
    },
    {
      "cell_type": "code",
      "metadata": {
        "id": "RLc_CW7t24-z",
        "colab": {
          "base_uri": "https://localhost:8080/"
        },
        "outputId": "69c69846-ea9b-428e-9f99-8ba3df11345d"
      },
      "source": [
        "ecom[(ecom['CC Provider']=='American Express') & (ecom['Purchase Price'] > 95.0)]"
      ],
      "execution_count": null,
      "outputs": [
        {
          "output_type": "execute_result",
          "data": {
            "text/plain": [
              "Address             39\n",
              "Lot                 39\n",
              "AM or PM            39\n",
              "Browser Info        39\n",
              "Company             39\n",
              "Credit Card         39\n",
              "CC Exp Date         39\n",
              "CC Security Code    39\n",
              "CC Provider         39\n",
              "Email               39\n",
              "Job                 39\n",
              "IP Address          39\n",
              "Language            39\n",
              "Purchase Price      39\n",
              "dtype: int64"
            ]
          },
          "metadata": {
            "tags": []
          },
          "execution_count": 50
        }
      ]
    },
    {
      "cell_type": "markdown",
      "metadata": {
        "id": "UK4MhSvC24-0"
      },
      "source": [
        "**How many people have a credit card that expires in 2025?**"
      ]
    },
    {
      "cell_type": "code",
      "metadata": {
        "id": "OYFOXjFM24-1"
      },
      "source": [
        "ecom[ecom['Credit Card']==4926535242672853]['Email']"
      ],
      "execution_count": null,
      "outputs": []
    },
    {
      "cell_type": "markdown",
      "metadata": {
        "id": "PVXUxg1K24-3"
      },
      "source": [
        "**What are the top 5 most popular email providers/hosts (e.g. gmail.com, yahoo.com, etc...)**"
      ]
    },
    {
      "cell_type": "code",
      "metadata": {
        "id": "ADZudy6924-4",
        "colab": {
          "base_uri": "https://localhost:8080/",
          "height": 314
        },
        "outputId": "abb696a3-0b79-42c4-824d-5d277e9a274a"
      },
      "source": [
        "ecom['ext3']=pd.Series(ecom['Email']).str.split('@')[2]"
      ],
      "execution_count": null,
      "outputs": [
        {
          "output_type": "error",
          "ename": "ValueError",
          "evalue": "ignored",
          "traceback": [
            "\u001b[0;31m---------------------------------------------------------------------------\u001b[0m",
            "\u001b[0;31mValueError\u001b[0m                                Traceback (most recent call last)",
            "\u001b[0;32m<ipython-input-71-4ccba6bb98ac>\u001b[0m in \u001b[0;36m<module>\u001b[0;34m()\u001b[0m\n\u001b[0;32m----> 1\u001b[0;31m \u001b[0mecom\u001b[0m\u001b[0;34m[\u001b[0m\u001b[0;34m'ext3'\u001b[0m\u001b[0;34m]\u001b[0m\u001b[0;34m=\u001b[0m\u001b[0mpd\u001b[0m\u001b[0;34m.\u001b[0m\u001b[0mSeries\u001b[0m\u001b[0;34m(\u001b[0m\u001b[0mecom\u001b[0m\u001b[0;34m[\u001b[0m\u001b[0;34m'Email'\u001b[0m\u001b[0;34m]\u001b[0m\u001b[0;34m)\u001b[0m\u001b[0;34m.\u001b[0m\u001b[0mstr\u001b[0m\u001b[0;34m.\u001b[0m\u001b[0msplit\u001b[0m\u001b[0;34m(\u001b[0m\u001b[0;34m'@'\u001b[0m\u001b[0;34m)\u001b[0m\u001b[0;34m[\u001b[0m\u001b[0;36m2\u001b[0m\u001b[0;34m]\u001b[0m\u001b[0;34m\u001b[0m\u001b[0;34m\u001b[0m\u001b[0m\n\u001b[0m",
            "\u001b[0;32m/usr/local/lib/python3.7/dist-packages/pandas/core/frame.py\u001b[0m in \u001b[0;36m__setitem__\u001b[0;34m(self, key, value)\u001b[0m\n\u001b[1;32m   3042\u001b[0m         \u001b[0;32melse\u001b[0m\u001b[0;34m:\u001b[0m\u001b[0;34m\u001b[0m\u001b[0;34m\u001b[0m\u001b[0m\n\u001b[1;32m   3043\u001b[0m             \u001b[0;31m# set column\u001b[0m\u001b[0;34m\u001b[0m\u001b[0;34m\u001b[0m\u001b[0;34m\u001b[0m\u001b[0m\n\u001b[0;32m-> 3044\u001b[0;31m             \u001b[0mself\u001b[0m\u001b[0;34m.\u001b[0m\u001b[0m_set_item\u001b[0m\u001b[0;34m(\u001b[0m\u001b[0mkey\u001b[0m\u001b[0;34m,\u001b[0m \u001b[0mvalue\u001b[0m\u001b[0;34m)\u001b[0m\u001b[0;34m\u001b[0m\u001b[0;34m\u001b[0m\u001b[0m\n\u001b[0m\u001b[1;32m   3045\u001b[0m \u001b[0;34m\u001b[0m\u001b[0m\n\u001b[1;32m   3046\u001b[0m     \u001b[0;32mdef\u001b[0m \u001b[0m_setitem_slice\u001b[0m\u001b[0;34m(\u001b[0m\u001b[0mself\u001b[0m\u001b[0;34m,\u001b[0m \u001b[0mkey\u001b[0m\u001b[0;34m:\u001b[0m \u001b[0mslice\u001b[0m\u001b[0;34m,\u001b[0m \u001b[0mvalue\u001b[0m\u001b[0;34m)\u001b[0m\u001b[0;34m:\u001b[0m\u001b[0;34m\u001b[0m\u001b[0;34m\u001b[0m\u001b[0m\n",
            "\u001b[0;32m/usr/local/lib/python3.7/dist-packages/pandas/core/frame.py\u001b[0m in \u001b[0;36m_set_item\u001b[0;34m(self, key, value)\u001b[0m\n\u001b[1;32m   3118\u001b[0m         \"\"\"\n\u001b[1;32m   3119\u001b[0m         \u001b[0mself\u001b[0m\u001b[0;34m.\u001b[0m\u001b[0m_ensure_valid_index\u001b[0m\u001b[0;34m(\u001b[0m\u001b[0mvalue\u001b[0m\u001b[0;34m)\u001b[0m\u001b[0;34m\u001b[0m\u001b[0;34m\u001b[0m\u001b[0m\n\u001b[0;32m-> 3120\u001b[0;31m         \u001b[0mvalue\u001b[0m \u001b[0;34m=\u001b[0m \u001b[0mself\u001b[0m\u001b[0;34m.\u001b[0m\u001b[0m_sanitize_column\u001b[0m\u001b[0;34m(\u001b[0m\u001b[0mkey\u001b[0m\u001b[0;34m,\u001b[0m \u001b[0mvalue\u001b[0m\u001b[0;34m)\u001b[0m\u001b[0;34m\u001b[0m\u001b[0;34m\u001b[0m\u001b[0m\n\u001b[0m\u001b[1;32m   3121\u001b[0m         \u001b[0mNDFrame\u001b[0m\u001b[0;34m.\u001b[0m\u001b[0m_set_item\u001b[0m\u001b[0;34m(\u001b[0m\u001b[0mself\u001b[0m\u001b[0;34m,\u001b[0m \u001b[0mkey\u001b[0m\u001b[0;34m,\u001b[0m \u001b[0mvalue\u001b[0m\u001b[0;34m)\u001b[0m\u001b[0;34m\u001b[0m\u001b[0;34m\u001b[0m\u001b[0m\n\u001b[1;32m   3122\u001b[0m \u001b[0;34m\u001b[0m\u001b[0m\n",
            "\u001b[0;32m/usr/local/lib/python3.7/dist-packages/pandas/core/frame.py\u001b[0m in \u001b[0;36m_sanitize_column\u001b[0;34m(self, key, value, broadcast)\u001b[0m\n\u001b[1;32m   3766\u001b[0m \u001b[0;34m\u001b[0m\u001b[0m\n\u001b[1;32m   3767\u001b[0m             \u001b[0;31m# turn me into an ndarray\u001b[0m\u001b[0;34m\u001b[0m\u001b[0;34m\u001b[0m\u001b[0;34m\u001b[0m\u001b[0m\n\u001b[0;32m-> 3768\u001b[0;31m             \u001b[0mvalue\u001b[0m \u001b[0;34m=\u001b[0m \u001b[0msanitize_index\u001b[0m\u001b[0;34m(\u001b[0m\u001b[0mvalue\u001b[0m\u001b[0;34m,\u001b[0m \u001b[0mself\u001b[0m\u001b[0;34m.\u001b[0m\u001b[0mindex\u001b[0m\u001b[0;34m)\u001b[0m\u001b[0;34m\u001b[0m\u001b[0;34m\u001b[0m\u001b[0m\n\u001b[0m\u001b[1;32m   3769\u001b[0m             \u001b[0;32mif\u001b[0m \u001b[0;32mnot\u001b[0m \u001b[0misinstance\u001b[0m\u001b[0;34m(\u001b[0m\u001b[0mvalue\u001b[0m\u001b[0;34m,\u001b[0m \u001b[0;34m(\u001b[0m\u001b[0mnp\u001b[0m\u001b[0;34m.\u001b[0m\u001b[0mndarray\u001b[0m\u001b[0;34m,\u001b[0m \u001b[0mIndex\u001b[0m\u001b[0;34m)\u001b[0m\u001b[0;34m)\u001b[0m\u001b[0;34m:\u001b[0m\u001b[0;34m\u001b[0m\u001b[0;34m\u001b[0m\u001b[0m\n\u001b[1;32m   3770\u001b[0m                 \u001b[0;32mif\u001b[0m \u001b[0misinstance\u001b[0m\u001b[0;34m(\u001b[0m\u001b[0mvalue\u001b[0m\u001b[0;34m,\u001b[0m \u001b[0mlist\u001b[0m\u001b[0;34m)\u001b[0m \u001b[0;32mand\u001b[0m \u001b[0mlen\u001b[0m\u001b[0;34m(\u001b[0m\u001b[0mvalue\u001b[0m\u001b[0;34m)\u001b[0m \u001b[0;34m>\u001b[0m \u001b[0;36m0\u001b[0m\u001b[0;34m:\u001b[0m\u001b[0;34m\u001b[0m\u001b[0;34m\u001b[0m\u001b[0m\n",
            "\u001b[0;32m/usr/local/lib/python3.7/dist-packages/pandas/core/internals/construction.py\u001b[0m in \u001b[0;36msanitize_index\u001b[0;34m(data, index)\u001b[0m\n\u001b[1;32m    746\u001b[0m     \u001b[0;32mif\u001b[0m \u001b[0mlen\u001b[0m\u001b[0;34m(\u001b[0m\u001b[0mdata\u001b[0m\u001b[0;34m)\u001b[0m \u001b[0;34m!=\u001b[0m \u001b[0mlen\u001b[0m\u001b[0;34m(\u001b[0m\u001b[0mindex\u001b[0m\u001b[0;34m)\u001b[0m\u001b[0;34m:\u001b[0m\u001b[0;34m\u001b[0m\u001b[0;34m\u001b[0m\u001b[0m\n\u001b[1;32m    747\u001b[0m         raise ValueError(\n\u001b[0;32m--> 748\u001b[0;31m             \u001b[0;34m\"Length of values \"\u001b[0m\u001b[0;34m\u001b[0m\u001b[0;34m\u001b[0m\u001b[0m\n\u001b[0m\u001b[1;32m    749\u001b[0m             \u001b[0;34mf\"({len(data)}) \"\u001b[0m\u001b[0;34m\u001b[0m\u001b[0;34m\u001b[0m\u001b[0m\n\u001b[1;32m    750\u001b[0m             \u001b[0;34m\"does not match length of index \"\u001b[0m\u001b[0;34m\u001b[0m\u001b[0;34m\u001b[0m\u001b[0m\n",
            "\u001b[0;31mValueError\u001b[0m: Length of values (2) does not match length of index (10000)"
          ]
        }
      ]
    },
    {
      "cell_type": "markdown",
      "metadata": {
        "id": "NOoAxaTA24-6"
      },
      "source": [
        "# Thank You!"
      ]
    },
    {
      "cell_type": "code",
      "metadata": {
        "id": "lpBj-M1Go1kp",
        "colab": {
          "base_uri": "https://localhost:8080/"
        },
        "outputId": "f7613124-9c49-4e14-a979-69852b489283"
      },
      "source": [
        "ecom['ext1']"
      ],
      "execution_count": null,
      "outputs": [
        {
          "output_type": "execute_result",
          "data": {
            "text/plain": [
              "0                    [pdunlap, yahoo.com]\n",
              "1                   [anthony41, reed.com]\n",
              "2       [amymiller, morales-harrison.com]\n",
              "3          [brent16, olson-robinson.info]\n",
              "4          [christopherwright, gmail.com]\n",
              "                      ...                \n",
              "9995            [iscott, wade-garner.com]\n",
              "9996                [mary85, hotmail.com]\n",
              "9997                 [tyler16, gmail.com]\n",
              "9998           [elizabethmoore, reid.net]\n",
              "9999             [rachelford, vaughn.com]\n",
              "Name: ext1, Length: 10000, dtype: object"
            ]
          },
          "metadata": {
            "tags": []
          },
          "execution_count": 69
        }
      ]
    },
    {
      "cell_type": "code",
      "metadata": {
        "id": "qUXPTos-o4f0"
      },
      "source": [
        ""
      ],
      "execution_count": null,
      "outputs": []
    }
  ]
}